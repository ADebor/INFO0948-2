{
 "cells": [
  {
   "cell_type": "code",
   "execution_count": 129,
   "id": "3f50894d",
   "metadata": {},
   "outputs": [],
   "source": [
    "import numpy as np\n",
    "import cv2 as cv"
   ]
  },
  {
   "cell_type": "code",
   "execution_count": 142,
   "id": "eca2d36b",
   "metadata": {},
   "outputs": [
    {
     "name": "stdout",
     "output_type": "stream",
     "text": [
      "300 300\n"
     ]
    },
    {
     "data": {
      "text/plain": [
       "-1"
      ]
     },
     "execution_count": 142,
     "metadata": {},
     "output_type": "execute_result"
    }
   ],
   "source": [
    "img = cv.imread('explored map.png',0)\n",
    "img = img[::-1]\n",
    "img = cv.resize(img, (300, 300))\n",
    "INITIAL_X, INITIAL_Y = np.shape(img)\n",
    "print(INITIAL_X, INITIAL_Y)\n",
    "img = cv.medianBlur(img,5)\n",
    "cimg = cv.cvtColor(img,cv.COLOR_GRAY2BGR)\n",
    "cv.imshow(\"img\", img)\n",
    "cv.waitKey(0)"
   ]
  },
  {
   "cell_type": "code",
   "execution_count": 143,
   "id": "5ea241e1",
   "metadata": {},
   "outputs": [],
   "source": [
    "circles = cv.HoughCircles(img,cv.HOUGH_GRADIENT,1,20,\n",
    "                            param1=10,param2=25,minRadius=5,maxRadius=0)"
   ]
  },
  {
   "cell_type": "code",
   "execution_count": 144,
   "id": "0e5f8e64",
   "metadata": {},
   "outputs": [
    {
     "data": {
      "text/plain": [
       "array([[[ 89.5, 269.5,   9.6],\n",
       "        [129.5, 271.5,   8. ],\n",
       "        [ 59.5, 109.5,   6. ]]], dtype=float32)"
      ]
     },
     "execution_count": 144,
     "metadata": {},
     "output_type": "execute_result"
    }
   ],
   "source": [
    "circles"
   ]
  },
  {
   "cell_type": "code",
   "execution_count": 145,
   "id": "528573a5",
   "metadata": {},
   "outputs": [],
   "source": [
    "circles = np.uint16(np.around(circles))"
   ]
  },
  {
   "cell_type": "code",
   "execution_count": 146,
   "id": "07998f7d",
   "metadata": {},
   "outputs": [
    {
     "data": {
      "text/plain": [
       "array([[[ 90, 270,  10],\n",
       "        [130, 272,   8],\n",
       "        [ 60, 110,   6]]], dtype=uint16)"
      ]
     },
     "execution_count": 146,
     "metadata": {},
     "output_type": "execute_result"
    }
   ],
   "source": [
    "circles"
   ]
  },
  {
   "cell_type": "code",
   "execution_count": 147,
   "id": "4b07f22c",
   "metadata": {},
   "outputs": [],
   "source": [
    "for i in circles[0,:]:\n",
    "    # draw the outer circle\n",
    "    #cv.circle(cimg,(i[0],i[1]),i[2],(0,255,0),4)\n",
    "    #cv.circle(cimg,(i[0],i[1]),10,(0,255,0),15) #constrain the radius to be equal to 10\n",
    "    # draw the center of the circle\n",
    "    cv.circle(cimg,(i[0],i[1]),2,(0,0,255),3)"
   ]
  },
  {
   "cell_type": "code",
   "execution_count": 148,
   "id": "f4970d7d",
   "metadata": {},
   "outputs": [
    {
     "data": {
      "text/plain": [
       "-1"
      ]
     },
     "execution_count": 148,
     "metadata": {},
     "output_type": "execute_result"
    }
   ],
   "source": [
    "cv.imshow('detected circles',cimg)\n",
    "cv.waitKey(0)"
   ]
  },
  {
   "cell_type": "code",
   "execution_count": 149,
   "id": "0b094eb9",
   "metadata": {},
   "outputs": [
    {
     "data": {
      "text/plain": [
       "True"
      ]
     },
     "execution_count": 149,
     "metadata": {},
     "output_type": "execute_result"
    }
   ],
   "source": [
    "cv.imwrite('explored_map_circles.png', cimg) "
   ]
  },
  {
   "cell_type": "code",
   "execution_count": 150,
   "id": "01d65a06",
   "metadata": {},
   "outputs": [],
   "source": [
    "SCENE_SIZE = 15\n",
    "RESOL = 0.1\n",
    "NB_PIXELS = int(SCENE_SIZE/RESOL)"
   ]
  },
  {
   "cell_type": "code",
   "execution_count": 151,
   "id": "807dba38",
   "metadata": {},
   "outputs": [],
   "source": [
    "cimg = cv.resize(cimg, (NB_PIXELS, NB_PIXELS))"
   ]
  },
  {
   "cell_type": "code",
   "execution_count": 152,
   "id": "b1d6167e",
   "metadata": {},
   "outputs": [
    {
     "data": {
      "text/plain": [
       "-1"
      ]
     },
     "execution_count": 152,
     "metadata": {},
     "output_type": "execute_result"
    }
   ],
   "source": [
    "cv.imshow('resized image',cimg)\n",
    "cv.waitKey(0)"
   ]
  },
  {
   "cell_type": "code",
   "execution_count": 153,
   "id": "07d3a307",
   "metadata": {},
   "outputs": [
    {
     "data": {
      "text/plain": [
       "(150, 150, 3)"
      ]
     },
     "execution_count": 153,
     "metadata": {},
     "output_type": "execute_result"
    }
   ],
   "source": [
    "np.shape(cimg)"
   ]
  },
  {
   "cell_type": "code",
   "execution_count": 154,
   "id": "cd79c3eb",
   "metadata": {},
   "outputs": [],
   "source": [
    "new_coordinates_circles = []\n",
    "for i in circles[0,:]:\n",
    "    new_x, new_y = NB_PIXELS/INITIAL_X * i[0], NB_PIXELS/INITIAL_Y * i[1]\n",
    "    new_coordinates_circles.append((new_x, new_y))"
   ]
  },
  {
   "cell_type": "code",
   "execution_count": 155,
   "id": "93ee328b",
   "metadata": {},
   "outputs": [
    {
     "data": {
      "text/plain": [
       "[(45.0, 135.0), (65.0, 136.0), (30.0, 55.0)]"
      ]
     },
     "execution_count": 155,
     "metadata": {},
     "output_type": "execute_result"
    }
   ],
   "source": [
    "new_coordinates_circles"
   ]
  },
  {
   "cell_type": "code",
   "execution_count": 94,
   "id": "31b83796",
   "metadata": {},
   "outputs": [],
   "source": [
    "cimg[91, 91, 0] = 200\n",
    "cimg[91, 91, 1] = 100\n",
    "cimg[91, 91, 2] = 100\n",
    "\n",
    "cimg[140, 10, 0] = 200\n",
    "cimg[140, 10, 1] = 100\n",
    "cimg[140, 10, 2] = 100\n",
    "\n",
    "cimg[55, 45, 0] = 200\n",
    "cimg[55, 45, 1] = 100\n",
    "cimg[55, 45, 2] = 100"
   ]
  },
  {
   "cell_type": "code",
   "execution_count": 95,
   "id": "b51c50fb",
   "metadata": {},
   "outputs": [
    {
     "data": {
      "text/plain": [
       "-1"
      ]
     },
     "execution_count": 95,
     "metadata": {},
     "output_type": "execute_result"
    }
   ],
   "source": [
    "cv.namedWindow('image',cv.WINDOW_NORMAL)\n",
    "cv.resizeWindow('image', 600,600)\n",
    "cv.imshow('image',cimg)\n",
    "cv.waitKey(0)"
   ]
  }
 ],
 "metadata": {
  "kernelspec": {
   "display_name": "Python 3",
   "language": "python",
   "name": "python3"
  },
  "language_info": {
   "codemirror_mode": {
    "name": "ipython",
    "version": 3
   },
   "file_extension": ".py",
   "mimetype": "text/x-python",
   "name": "python",
   "nbconvert_exporter": "python",
   "pygments_lexer": "ipython3",
   "version": "3.8.0"
  }
 },
 "nbformat": 4,
 "nbformat_minor": 5
}
